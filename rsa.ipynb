{
 "cells": [
  {
   "cell_type": "markdown",
   "metadata": {},
   "source": [
    "# RSA"
   ]
  },
  {
   "cell_type": "markdown",
   "metadata": {},
   "source": [
    "[O] General RSA <br>\n",
    "[O] Support 1024 bits <br>\n",
    "[O] Prime Number Generator Implement <br>\n",
    "[O] Square & multiply (speed up the encryption) <br>\n",
    "[O] Chinese\tRemainder Theorem (speed up the decryption) <br>"
   ]
  },
  {
   "cell_type": "code",
   "execution_count": null,
   "metadata": {},
   "outputs": [],
   "source": [
    "from random import *"
   ]
  },
  {
   "cell_type": "code",
   "execution_count": null,
   "metadata": {},
   "outputs": [],
   "source": [
    "#check whether n is prime\n",
    "def miller_rabin_test(n, time = 8):\n",
    "    if n == 2:\n",
    "        return True\n",
    "\n",
    "    if n % 2 == 0:\n",
    "        return False\n",
    "\n",
    "    r, s = 0, n - 1\n",
    "    while s % 2 == 0:\n",
    "        r += 1; s //= 2\n",
    "        \n",
    "    #trial test\n",
    "    for _ in range(time):\n",
    "        a = randrange(2, n - 1)\n",
    "        x = mod_acc(a, s, n)\n",
    "        if x == 1 or x == n - 1:\n",
    "            continue\n",
    "        for _ in range(r - 1):\n",
    "            x = mod_acc(x, 2, n)\n",
    "            if x == n - 1:\n",
    "                break\n",
    "        else:\n",
    "            return False\n",
    "    return True"
   ]
  },
  {
   "cell_type": "code",
   "execution_count": null,
   "metadata": {},
   "outputs": [],
   "source": [
    "def prime_number_generator(n):\n",
    "    p = 0\n",
    "    while not miller_rabin_test(p):\n",
    "        p = randint(0, 2 ** n - 1) + (1 << n)\n",
    "    return p"
   ]
  },
  {
   "cell_type": "code",
   "execution_count": null,
   "metadata": {},
   "outputs": [],
   "source": [
    "#generator a coprime number with r\n",
    "def coprime():\n",
    "    e = prime_number_generator(16)\n",
    "    return e"
   ]
  },
  {
   "cell_type": "code",
   "execution_count": null,
   "metadata": {},
   "outputs": [],
   "source": [
    "def inverse_element(e, r):\n",
    "    x, y = gcd(e, r)\n",
    "    return x % r"
   ]
  },
  {
   "cell_type": "code",
   "execution_count": null,
   "metadata": {},
   "outputs": [],
   "source": [
    "def gcd(a, b):\n",
    "    if a == 0:\n",
    "        return (0, 1)\n",
    "    else:\n",
    "        y, x = gcd(b % a, a)\n",
    "        return (x - (b // a) * y, y)"
   ]
  },
  {
   "cell_type": "code",
   "execution_count": null,
   "metadata": {},
   "outputs": [],
   "source": [
    "def init(p, q):\n",
    "    global N, e, d\n",
    "    #p, q = int(p), int(q)\n",
    "    N = p * q\n",
    "    r = (p - 1) * (q - 1)\n",
    "    e = coprime()\n",
    "    d = inverse_element(e, r)\n",
    "    print(\"----------------------------------------------\")\n",
    "    print(\"Prime Number: \\np = %d,\\nq = %d\" %(p, q))\n",
    "    print(\"Public Key (N, e) = (%d, %d)\" %(N, e))\n",
    "    print(\"Private Key (N, d) = (%d, %d)\" %(N, d))"
   ]
  },
  {
   "cell_type": "code",
   "execution_count": null,
   "metadata": {},
   "outputs": [],
   "source": [
    "#a ^ b mod c\n",
    "def mod_acc(a, b, c):\n",
    "    s = 1\n",
    "    while True:        \n",
    "        t = b        \n",
    "        if b % 2:\n",
    "            s = s * a % c\n",
    "        a = a * a % c\n",
    "        b //= 2\n",
    "        if t < 1:\n",
    "            return s"
   ]
  },
  {
   "cell_type": "code",
   "execution_count": null,
   "metadata": {},
   "outputs": [],
   "source": [
    "#chinese remainder theorem\n",
    "def crt(a, b, c, p, q):\n",
    "    rp = a % p\n",
    "    rq = a % q\n",
    "    \n",
    "    dp = b % (p - 1)\n",
    "    dq = b % (q - 1)\n",
    "    \n",
    "    yp = mod_acc(rp, dp, p)\n",
    "    yq = mod_acc(rq, dq, q)\n",
    "    \n",
    "    cp = inverse_element(q, p)\n",
    "    cq = inverse_element(p, q)\n",
    "    \n",
    "    return ((q * cp * yp) + (p * cq * yq)) % N"
   ]
  },
  {
   "cell_type": "code",
   "execution_count": null,
   "metadata": {},
   "outputs": [],
   "source": [
    "#encryption\n",
    "def encryption():\n",
    "    print(\"----------------------------------------------\")\n",
    "    plaintext = input(\"Input the plaintext\\n\")\n",
    "    ciphertext = \"\"\n",
    "\n",
    "    for i in plaintext:\n",
    "        ciphertext =  ciphertext + str(mod_acc(ord(i), e, N)) + ' '\n",
    "    print(\"Plaintext is: %s\" %(plaintext))\n",
    "    print(\"Ciphertext is: %s\" %(ciphertext))\n",
    "    \n",
    "    print(\"----------------------------------------------\")\n",
    "    selection = input('Do you want to decrypt the ciphertext? [y/n]\\n')\n",
    "    if selection == 'y':\n",
    "        decryption()        "
   ]
  },
  {
   "cell_type": "code",
   "execution_count": null,
   "metadata": {},
   "outputs": [],
   "source": [
    "#decryption\n",
    "def decryption():\n",
    "    print(\"----------------------------------------------\")\n",
    "    ciphertext = input(\"Input the ciphertext\\n\").split()\n",
    "    plaintext = \"\"\n",
    "\n",
    "    for i in ciphertext:\n",
    "        plaintext = plaintext + str(chr(int(crt(int(i), d, N, p, q))))\n",
    "    print(\"Ciphertext is: %s\" %(\"\".join(ciphertext)))\n",
    "    print(\"Plaintext is: %s\" %(plaintext))"
   ]
  },
  {
   "cell_type": "code",
   "execution_count": null,
   "metadata": {},
   "outputs": [],
   "source": [
    "def start():\n",
    "    while 1:\n",
    "        print(\"----------------------------------------------\")\n",
    "        selection = input('e) Encryption\\n' + \n",
    "                          'd) Decryption\\n' + \n",
    "                          'n) Use Another Prime Number\\n')\n",
    "        if selection == 'e':\n",
    "            encryption()\n",
    "        elif selection == 'd':\n",
    "            decryption()\n",
    "        else:\n",
    "            return"
   ]
  },
  {
   "cell_type": "code",
   "execution_count": null,
   "metadata": {
    "scrolled": false
   },
   "outputs": [],
   "source": [
    "def main():\n",
    "    global p, q\n",
    "    while 1:\n",
    "        print(\"----------------------------------------------\")\n",
    "        selection = input('i) Input Prime Number\\n' + \n",
    "                          'g) Generate Prime Number\\n' +\n",
    "                          'q) Quit\\n')\n",
    "        if selection == 'i':\n",
    "            p, q = input().split()\n",
    "            p, q = int(p), int(q)\n",
    "            init(p, q)\n",
    "        elif selection == 'g':\n",
    "            p = prime_number_generator(512)\n",
    "            q = prime_number_generator(512)\n",
    "            init(p, q)\n",
    "        else:\n",
    "            return\n",
    "\n",
    "        start()"
   ]
  },
  {
   "cell_type": "code",
   "execution_count": null,
   "metadata": {},
   "outputs": [],
   "source": [
    "p = q = N = e = d = 0\n",
    "main()"
   ]
  }
 ],
 "metadata": {
  "kernelspec": {
   "display_name": "Python 3",
   "language": "python",
   "name": "python3"
  },
  "language_info": {
   "codemirror_mode": {
    "name": "ipython",
    "version": 3
   },
   "file_extension": ".py",
   "mimetype": "text/x-python",
   "name": "python",
   "nbconvert_exporter": "python",
   "pygments_lexer": "ipython3",
   "version": "3.6.5"
  }
 },
 "nbformat": 4,
 "nbformat_minor": 2
}
